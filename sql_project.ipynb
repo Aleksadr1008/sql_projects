{
 "cells": [
  {
   "cell_type": "markdown",
   "metadata": {},
   "source": [
    "<div style=\"border-radius: 15px; box-shadow: 2px 2px 4px; border: 1px solid; background:#bdc3c7; padding: 20px\"> <h7 style=\"color:black; margin-bottom:20px\"> Александр, привет!) Это Михаил.\n",
    "\n",
    "Мои комментарии и замечания далее по тексту помечены различными цветами:\n",
    "    \n",
    "---    \n",
    "<div class=\"alert alert-block alert-danger\">\n",
    "❌ : Критическое замечание, которые следует исправить.\n",
    "</div> \n",
    "    \n",
    "---\n",
    "    \n",
    "<div class=\"alert alert-block alert-warning\">\n",
    "⚠️ : Замечание\\совет на будущее.\n",
    "</div>\n",
    "    \n",
    "---\n",
    "    \n",
    "<div class=\"alert alert-block alert-success\">\n",
    "✔️ : Когда всё сделано правильно.\n",
    "</div>\n",
    "\n",
    "---\n",
    "\n",
    "Если возникнут вопросы по проекту или вопросы общего характера, то не стесняйся - задавай!) Для того, чтобы мне было легче их найти, то выделяй их пожалуйста с помощью цвета, например вот так - <font color=#e17055>\"вопрос, который не останется незамеченным\"</font>\n",
    "        \n",
    "    \n",
    "p.s.: не удаляй мои замечания, если предстоит что то доработать в проекте.</h7>"
   ]
  },
  {
   "cell_type": "markdown",
   "metadata": {},
   "source": [
    "<div class=\"alert alert-success\" style=\"border-radius: 15px; box-shadow: 4px 4px 4px; border: 1px solid \" > <b>Комментарии от ревьюера ✔️ : </b> \n",
    "\n",
    "Итог ревью - ты проделал отличную работу! Все запросы корректные и дают правильный результат. Ты наглядно показал умение формировать запросы SQL для решения подобных задач. Так держать! \n",
    "    \n",
    "Поздравляю с завершением финального спринта! Особенно ценно, что ты полностью уложился в дедлайн 👏\n",
    "    \n",
    "![](https://media.giphy.com/media/SkwbfLHO0a1lS/giphy.gif)\n",
    "    \n",
    "Остается дождаться финального созвона в ближайшее время)\n",
    "</div>"
   ]
  },
  {
   "cell_type": "markdown",
   "metadata": {},
   "source": [
    "# Описание проекта"
   ]
  },
  {
   "cell_type": "markdown",
   "metadata": {},
   "source": [
    "Цель иследования: проанализировать базу данных. В ней — информация о книгах, издательствах, авторах, а также пользовательские обзоры книг. Эти данные помогут сформулировать ценностное предложение для нового продукта."
   ]
  },
  {
   "cell_type": "markdown",
   "metadata": {},
   "source": [
    "Задачи:\n",
    "1. Посчитаnm, сколько книг вышло после 1 января 2000 года;\n",
    "2. Для каждой книги посчитайте количество обзоров и среднюю оценку;\n",
    "3. Определите издательство, которое выпустило наибольшее число книг толще 50 страниц — так вы исключите из анализа брошюры;\n",
    "4. Определите автора с самой высокой средней оценкой книг — учитывайте только книги с 50 и более оценками;\n",
    "5. Посчитайте среднее количество обзоров от пользователей, которые поставили больше 50 оценок."
   ]
  },
  {
   "cell_type": "markdown",
   "metadata": {},
   "source": [
    "# Иследование данных"
   ]
  },
  {
   "cell_type": "code",
   "execution_count": 1,
   "metadata": {},
   "outputs": [],
   "source": [
    "# импортируем библиотеки\n",
    "import pandas as pd\n",
    "from sqlalchemy import create_engine "
   ]
  },
  {
   "cell_type": "code",
   "execution_count": 2,
   "metadata": {},
   "outputs": [],
   "source": [
    "# устанавливаем параметры\n",
    "db_config = {'user': 'praktikum_student', # имя пользователя\n",
    "'pwd': 'Sdf4$2;d-d30pp', # пароль\n",
    "'host': 'rc1b-wcoijxj3yxfsf3fs.mdb.yandexcloud.net',\n",
    "'port': 6432, # порт подключения\n",
    "'db': 'data-analyst-final-project-db'} # название базы данных\n",
    "\n",
    "connection_string = 'postgresql://{}:{}@{}:{}/{}'.format(db_config['user'],\n",
    " db_config['pwd'],\n",
    " db_config['host'],\n",
    " db_config['port'],\n",
    " db_config['db'])\n",
    "\n",
    "# сохраняем коннектор\n",
    "engine = create_engine(connection_string, connect_args={'sslmode':'require'})"
   ]
  },
  {
   "cell_type": "code",
   "execution_count": 3,
   "metadata": {},
   "outputs": [
    {
     "data": {
      "text/html": [
       "<div>\n",
       "<style scoped>\n",
       "    .dataframe tbody tr th:only-of-type {\n",
       "        vertical-align: middle;\n",
       "    }\n",
       "\n",
       "    .dataframe tbody tr th {\n",
       "        vertical-align: top;\n",
       "    }\n",
       "\n",
       "    .dataframe thead th {\n",
       "        text-align: right;\n",
       "    }\n",
       "</style>\n",
       "<table border=\"1\" class=\"dataframe\">\n",
       "  <thead>\n",
       "    <tr style=\"text-align: right;\">\n",
       "      <th></th>\n",
       "      <th>book_id</th>\n",
       "      <th>author_id</th>\n",
       "      <th>title</th>\n",
       "      <th>num_pages</th>\n",
       "      <th>publication_date</th>\n",
       "      <th>publisher_id</th>\n",
       "    </tr>\n",
       "  </thead>\n",
       "  <tbody>\n",
       "    <tr>\n",
       "      <th>0</th>\n",
       "      <td>1</td>\n",
       "      <td>546</td>\n",
       "      <td>'Salem's Lot</td>\n",
       "      <td>594</td>\n",
       "      <td>2005-11-01</td>\n",
       "      <td>93</td>\n",
       "    </tr>\n",
       "  </tbody>\n",
       "</table>\n",
       "</div>"
      ],
      "text/plain": [
       "   book_id  author_id         title  num_pages publication_date  publisher_id\n",
       "0        1        546  'Salem's Lot        594       2005-11-01            93"
      ]
     },
     "metadata": {},
     "output_type": "display_data"
    },
    {
     "data": {
      "text/html": [
       "<div>\n",
       "<style scoped>\n",
       "    .dataframe tbody tr th:only-of-type {\n",
       "        vertical-align: middle;\n",
       "    }\n",
       "\n",
       "    .dataframe tbody tr th {\n",
       "        vertical-align: top;\n",
       "    }\n",
       "\n",
       "    .dataframe thead th {\n",
       "        text-align: right;\n",
       "    }\n",
       "</style>\n",
       "<table border=\"1\" class=\"dataframe\">\n",
       "  <thead>\n",
       "    <tr style=\"text-align: right;\">\n",
       "      <th></th>\n",
       "      <th>author_id</th>\n",
       "      <th>author</th>\n",
       "    </tr>\n",
       "  </thead>\n",
       "  <tbody>\n",
       "    <tr>\n",
       "      <th>0</th>\n",
       "      <td>1</td>\n",
       "      <td>A.S. Byatt</td>\n",
       "    </tr>\n",
       "  </tbody>\n",
       "</table>\n",
       "</div>"
      ],
      "text/plain": [
       "   author_id      author\n",
       "0          1  A.S. Byatt"
      ]
     },
     "metadata": {},
     "output_type": "display_data"
    },
    {
     "data": {
      "text/html": [
       "<div>\n",
       "<style scoped>\n",
       "    .dataframe tbody tr th:only-of-type {\n",
       "        vertical-align: middle;\n",
       "    }\n",
       "\n",
       "    .dataframe tbody tr th {\n",
       "        vertical-align: top;\n",
       "    }\n",
       "\n",
       "    .dataframe thead th {\n",
       "        text-align: right;\n",
       "    }\n",
       "</style>\n",
       "<table border=\"1\" class=\"dataframe\">\n",
       "  <thead>\n",
       "    <tr style=\"text-align: right;\">\n",
       "      <th></th>\n",
       "      <th>rating_id</th>\n",
       "      <th>book_id</th>\n",
       "      <th>username</th>\n",
       "      <th>rating</th>\n",
       "    </tr>\n",
       "  </thead>\n",
       "  <tbody>\n",
       "    <tr>\n",
       "      <th>0</th>\n",
       "      <td>1</td>\n",
       "      <td>1</td>\n",
       "      <td>ryanfranco</td>\n",
       "      <td>4</td>\n",
       "    </tr>\n",
       "  </tbody>\n",
       "</table>\n",
       "</div>"
      ],
      "text/plain": [
       "   rating_id  book_id    username  rating\n",
       "0          1        1  ryanfranco       4"
      ]
     },
     "metadata": {},
     "output_type": "display_data"
    },
    {
     "data": {
      "text/html": [
       "<div>\n",
       "<style scoped>\n",
       "    .dataframe tbody tr th:only-of-type {\n",
       "        vertical-align: middle;\n",
       "    }\n",
       "\n",
       "    .dataframe tbody tr th {\n",
       "        vertical-align: top;\n",
       "    }\n",
       "\n",
       "    .dataframe thead th {\n",
       "        text-align: right;\n",
       "    }\n",
       "</style>\n",
       "<table border=\"1\" class=\"dataframe\">\n",
       "  <thead>\n",
       "    <tr style=\"text-align: right;\">\n",
       "      <th></th>\n",
       "      <th>review_id</th>\n",
       "      <th>book_id</th>\n",
       "      <th>username</th>\n",
       "      <th>text</th>\n",
       "    </tr>\n",
       "  </thead>\n",
       "  <tbody>\n",
       "    <tr>\n",
       "      <th>0</th>\n",
       "      <td>1</td>\n",
       "      <td>1</td>\n",
       "      <td>brandtandrea</td>\n",
       "      <td>Mention society tell send professor analysis. ...</td>\n",
       "    </tr>\n",
       "  </tbody>\n",
       "</table>\n",
       "</div>"
      ],
      "text/plain": [
       "   review_id  book_id      username  \\\n",
       "0          1        1  brandtandrea   \n",
       "\n",
       "                                                text  \n",
       "0  Mention society tell send professor analysis. ...  "
      ]
     },
     "metadata": {},
     "output_type": "display_data"
    },
    {
     "data": {
      "text/html": [
       "<div>\n",
       "<style scoped>\n",
       "    .dataframe tbody tr th:only-of-type {\n",
       "        vertical-align: middle;\n",
       "    }\n",
       "\n",
       "    .dataframe tbody tr th {\n",
       "        vertical-align: top;\n",
       "    }\n",
       "\n",
       "    .dataframe thead th {\n",
       "        text-align: right;\n",
       "    }\n",
       "</style>\n",
       "<table border=\"1\" class=\"dataframe\">\n",
       "  <thead>\n",
       "    <tr style=\"text-align: right;\">\n",
       "      <th></th>\n",
       "      <th>publisher_id</th>\n",
       "      <th>publisher</th>\n",
       "    </tr>\n",
       "  </thead>\n",
       "  <tbody>\n",
       "    <tr>\n",
       "      <th>0</th>\n",
       "      <td>1</td>\n",
       "      <td>Ace</td>\n",
       "    </tr>\n",
       "  </tbody>\n",
       "</table>\n",
       "</div>"
      ],
      "text/plain": [
       "   publisher_id publisher\n",
       "0             1       Ace"
      ]
     },
     "metadata": {},
     "output_type": "display_data"
    }
   ],
   "source": [
    "# Выведим по строке в каждой таблицы\n",
    "query = ''' \n",
    "SELECT *\n",
    "FROM books\n",
    "LIMIT 1\n",
    "'''\n",
    "display(pd.io.sql.read_sql(query, con = engine))\n",
    "\n",
    "query = ''' \n",
    "SELECT *\n",
    "FROM authors\n",
    "LIMIT 1\n",
    "'''\n",
    "display(pd.io.sql.read_sql(query, con = engine))\n",
    "\n",
    "query = ''' \n",
    "SELECT *\n",
    "FROM ratings\n",
    "LIMIT 1\n",
    "'''\n",
    "display(pd.io.sql.read_sql(query, con = engine))\n",
    "\n",
    "query = ''' \n",
    "SELECT *\n",
    "FROM reviews\n",
    "LIMIT 1\n",
    "'''\n",
    "display(pd.io.sql.read_sql(query, con = engine))\n",
    "\n",
    "query = ''' \n",
    "SELECT *\n",
    "FROM publishers\n",
    "LIMIT 1\n",
    "'''\n",
    "display(pd.io.sql.read_sql(query, con = engine))"
   ]
  },
  {
   "cell_type": "markdown",
   "metadata": {},
   "source": [
    "<div class=\"alert alert-success\" style=\"border-radius: 15px; box-shadow: 4px 4px 4px; border: 1px solid \" > <b>Комментарии от ревьюера ✔️ : </b> \n",
    "\n",
    "Здесь всё хорошо. Ты корректно выгрузил данные и посмотрел их содержимое. Теперь можем приступать к выполнению заданий\n",
    "</div>"
   ]
  },
  {
   "cell_type": "markdown",
   "metadata": {},
   "source": [
    "# Анализ базы данных"
   ]
  },
  {
   "cell_type": "markdown",
   "metadata": {},
   "source": [
    "#### Посчитаем, сколько книг вышло после 1 января 2000 года"
   ]
  },
  {
   "cell_type": "code",
   "execution_count": 4,
   "metadata": {},
   "outputs": [
    {
     "data": {
      "text/html": [
       "<div>\n",
       "<style scoped>\n",
       "    .dataframe tbody tr th:only-of-type {\n",
       "        vertical-align: middle;\n",
       "    }\n",
       "\n",
       "    .dataframe tbody tr th {\n",
       "        vertical-align: top;\n",
       "    }\n",
       "\n",
       "    .dataframe thead th {\n",
       "        text-align: right;\n",
       "    }\n",
       "</style>\n",
       "<table border=\"1\" class=\"dataframe\">\n",
       "  <thead>\n",
       "    <tr style=\"text-align: right;\">\n",
       "      <th></th>\n",
       "      <th>count</th>\n",
       "    </tr>\n",
       "  </thead>\n",
       "  <tbody>\n",
       "    <tr>\n",
       "      <th>0</th>\n",
       "      <td>821</td>\n",
       "    </tr>\n",
       "  </tbody>\n",
       "</table>\n",
       "</div>"
      ],
      "text/plain": [
       "   count\n",
       "0    821"
      ]
     },
     "execution_count": 4,
     "metadata": {},
     "output_type": "execute_result"
    }
   ],
   "source": [
    "query = ''' \n",
    "SELECT COUNT(title)\n",
    "FROM books\n",
    "WHERE CAST(publication_date AS date) >= '2000-01-01'\n",
    "'''\n",
    "pd.io.sql.read_sql(query, con = engine)"
   ]
  },
  {
   "cell_type": "markdown",
   "metadata": {},
   "source": [
    "<div class=\"alert alert-warning\" style=\"border-radius: 15px; box-shadow: 4px 4px 4px; border: 1px solid \" > <b>Комментарии от ревьюера ⚠️ : </b> \n",
    "\n",
    "Всё верно. Это правильный ответ, но рекомендую вести подсчет не по book_title, а по book_id, т.к. есть случаи когда у одного произведения несколько издательств и в твоем случае результат может изменится\n",
    "</div>"
   ]
  },
  {
   "cell_type": "markdown",
   "metadata": {},
   "source": [
    "- После 1 января 2000 года вышла 821 книга"
   ]
  },
  {
   "cell_type": "markdown",
   "metadata": {},
   "source": [
    "#### Для каждой книги посчитайем количество обзоров и среднюю оценку"
   ]
  },
  {
   "cell_type": "code",
   "execution_count": 5,
   "metadata": {},
   "outputs": [
    {
     "data": {
      "text/html": [
       "<div>\n",
       "<style scoped>\n",
       "    .dataframe tbody tr th:only-of-type {\n",
       "        vertical-align: middle;\n",
       "    }\n",
       "\n",
       "    .dataframe tbody tr th {\n",
       "        vertical-align: top;\n",
       "    }\n",
       "\n",
       "    .dataframe thead th {\n",
       "        text-align: right;\n",
       "    }\n",
       "</style>\n",
       "<table border=\"1\" class=\"dataframe\">\n",
       "  <thead>\n",
       "    <tr style=\"text-align: right;\">\n",
       "      <th></th>\n",
       "      <th>title</th>\n",
       "      <th>avg_rating</th>\n",
       "      <th>count_review</th>\n",
       "    </tr>\n",
       "  </thead>\n",
       "  <tbody>\n",
       "    <tr>\n",
       "      <th>0</th>\n",
       "      <td>'Salem's Lot</td>\n",
       "      <td>3.666667</td>\n",
       "      <td>2.0</td>\n",
       "    </tr>\n",
       "    <tr>\n",
       "      <th>1</th>\n",
       "      <td>1 000 Places to See Before You Die</td>\n",
       "      <td>2.500000</td>\n",
       "      <td>1.0</td>\n",
       "    </tr>\n",
       "    <tr>\n",
       "      <th>2</th>\n",
       "      <td>13 Little Blue Envelopes (Little Blue Envelope...</td>\n",
       "      <td>4.666667</td>\n",
       "      <td>3.0</td>\n",
       "    </tr>\n",
       "    <tr>\n",
       "      <th>3</th>\n",
       "      <td>1491: New Revelations of the Americas Before C...</td>\n",
       "      <td>4.500000</td>\n",
       "      <td>2.0</td>\n",
       "    </tr>\n",
       "    <tr>\n",
       "      <th>4</th>\n",
       "      <td>1776</td>\n",
       "      <td>4.000000</td>\n",
       "      <td>4.0</td>\n",
       "    </tr>\n",
       "    <tr>\n",
       "      <th>...</th>\n",
       "      <td>...</td>\n",
       "      <td>...</td>\n",
       "      <td>...</td>\n",
       "    </tr>\n",
       "    <tr>\n",
       "      <th>995</th>\n",
       "      <td>The Cat in the Hat and Other Dr. Seuss Favorites</td>\n",
       "      <td>5.000000</td>\n",
       "      <td>NaN</td>\n",
       "    </tr>\n",
       "    <tr>\n",
       "      <th>996</th>\n",
       "      <td>Anne Rice's The Vampire Lestat: A Graphic Novel</td>\n",
       "      <td>3.666667</td>\n",
       "      <td>NaN</td>\n",
       "    </tr>\n",
       "    <tr>\n",
       "      <th>997</th>\n",
       "      <td>Essential Tales and Poems</td>\n",
       "      <td>4.000000</td>\n",
       "      <td>NaN</td>\n",
       "    </tr>\n",
       "    <tr>\n",
       "      <th>998</th>\n",
       "      <td>Leonardo's Notebooks</td>\n",
       "      <td>4.000000</td>\n",
       "      <td>NaN</td>\n",
       "    </tr>\n",
       "    <tr>\n",
       "      <th>999</th>\n",
       "      <td>The Natural Way to Draw</td>\n",
       "      <td>3.000000</td>\n",
       "      <td>NaN</td>\n",
       "    </tr>\n",
       "  </tbody>\n",
       "</table>\n",
       "<p>1000 rows × 3 columns</p>\n",
       "</div>"
      ],
      "text/plain": [
       "                                                 title  avg_rating  \\\n",
       "0                                         'Salem's Lot    3.666667   \n",
       "1                   1 000 Places to See Before You Die    2.500000   \n",
       "2    13 Little Blue Envelopes (Little Blue Envelope...    4.666667   \n",
       "3    1491: New Revelations of the Americas Before C...    4.500000   \n",
       "4                                                 1776    4.000000   \n",
       "..                                                 ...         ...   \n",
       "995   The Cat in the Hat and Other Dr. Seuss Favorites    5.000000   \n",
       "996    Anne Rice's The Vampire Lestat: A Graphic Novel    3.666667   \n",
       "997                          Essential Tales and Poems    4.000000   \n",
       "998                               Leonardo's Notebooks    4.000000   \n",
       "999                            The Natural Way to Draw    3.000000   \n",
       "\n",
       "     count_review  \n",
       "0             2.0  \n",
       "1             1.0  \n",
       "2             3.0  \n",
       "3             2.0  \n",
       "4             4.0  \n",
       "..            ...  \n",
       "995           NaN  \n",
       "996           NaN  \n",
       "997           NaN  \n",
       "998           NaN  \n",
       "999           NaN  \n",
       "\n",
       "[1000 rows x 3 columns]"
      ]
     },
     "execution_count": 5,
     "metadata": {},
     "output_type": "execute_result"
    }
   ],
   "source": [
    "query = ''' \n",
    "WITH \n",
    "ar AS (SELECT book_id,\n",
    "            AVG(rating) AS avg_rating\n",
    "        FROM ratings\n",
    "        GROUP BY book_id),\n",
    "cr AS (SELECT book_id,\n",
    "                    COUNT(review_id) AS count_review\n",
    "                FROM reviews\n",
    "                GROUP BY book_id\n",
    "                ORDER BY book_id)\n",
    "                \n",
    "SELECT b.title,\n",
    "        ar.avg_rating,\n",
    "        cr.count_review\n",
    "FROM ar\n",
    "FULL OUTER JOIN books AS b ON ar.book_id = b.book_id\n",
    "FULL OUTER JOIN cr ON cr.book_id = b.book_id\n",
    "\n",
    "\n",
    "'''\n",
    "pd.io.sql.read_sql(query, con = engine)"
   ]
  },
  {
   "cell_type": "markdown",
   "metadata": {},
   "source": [
    "<div class=\"alert alert-success\" style=\"border-radius: 15px; box-shadow: 4px 4px 4px; border: 1px solid \" > <b>Комментарии от ревьюера ✔️ : </b> \n",
    "    \n",
    "Здорово. Это один из самых коварных запросов, как показывает практика, но ты справился успешно. Молодец!)\n",
    "\n",
    "</div>"
   ]
  },
  {
   "cell_type": "markdown",
   "metadata": {},
   "source": [
    "- Для 6 книг отсутствуют рецензии, рейтинг присутсвует у всех книг"
   ]
  },
  {
   "cell_type": "markdown",
   "metadata": {},
   "source": [
    "#### Определим издательство, которое выпустило наибольшее число книг толще 50 страниц (исключим из анализа брошюры)"
   ]
  },
  {
   "cell_type": "code",
   "execution_count": 6,
   "metadata": {},
   "outputs": [
    {
     "data": {
      "text/html": [
       "<div>\n",
       "<style scoped>\n",
       "    .dataframe tbody tr th:only-of-type {\n",
       "        vertical-align: middle;\n",
       "    }\n",
       "\n",
       "    .dataframe tbody tr th {\n",
       "        vertical-align: top;\n",
       "    }\n",
       "\n",
       "    .dataframe thead th {\n",
       "        text-align: right;\n",
       "    }\n",
       "</style>\n",
       "<table border=\"1\" class=\"dataframe\">\n",
       "  <thead>\n",
       "    <tr style=\"text-align: right;\">\n",
       "      <th></th>\n",
       "      <th>publisher</th>\n",
       "      <th>count_title</th>\n",
       "    </tr>\n",
       "  </thead>\n",
       "  <tbody>\n",
       "    <tr>\n",
       "      <th>0</th>\n",
       "      <td>Penguin Books</td>\n",
       "      <td>42</td>\n",
       "    </tr>\n",
       "  </tbody>\n",
       "</table>\n",
       "</div>"
      ],
      "text/plain": [
       "       publisher  count_title\n",
       "0  Penguin Books           42"
      ]
     },
     "execution_count": 6,
     "metadata": {},
     "output_type": "execute_result"
    }
   ],
   "source": [
    "query = ''' \n",
    "SELECT publisher,\n",
    "    COUNT(title) AS count_title\n",
    "FROM books AS b\n",
    "LEFT JOIN publishers AS p ON b.publisher_id = p.publisher_id\n",
    "WHERE num_pages > 50\n",
    "GROUP BY publisher\n",
    "ORDER BY count_title DESC\n",
    "LIMIT 1\n",
    "'''\n",
    "pd.io.sql.read_sql(query, con = engine)"
   ]
  },
  {
   "cell_type": "markdown",
   "metadata": {},
   "source": [
    "<div class=\"alert alert-success\" style=\"border-radius: 15px; box-shadow: 4px 4px 4px; border: 1px solid \" > <b>Комментарии от ревьюера ✔️ : </b> \n",
    "    \n",
    "\n",
    "Согласен с результатом. Действительно данное издательство является лидером по выпущенным книгам\n",
    "\n",
    "</div>"
   ]
  },
  {
   "cell_type": "markdown",
   "metadata": {},
   "source": [
    "- Издательство выпустившее наибольшее количество книг (с количеством страниц больше 50) Penguin Books"
   ]
  },
  {
   "cell_type": "markdown",
   "metadata": {},
   "source": [
    "#### Определим автора с самой высокой средней оценкой книг — учитывая только книги с 50 и более оценками;"
   ]
  },
  {
   "cell_type": "code",
   "execution_count": 11,
   "metadata": {},
   "outputs": [
    {
     "data": {
      "text/html": [
       "<div>\n",
       "<style scoped>\n",
       "    .dataframe tbody tr th:only-of-type {\n",
       "        vertical-align: middle;\n",
       "    }\n",
       "\n",
       "    .dataframe tbody tr th {\n",
       "        vertical-align: top;\n",
       "    }\n",
       "\n",
       "    .dataframe thead th {\n",
       "        text-align: right;\n",
       "    }\n",
       "</style>\n",
       "<table border=\"1\" class=\"dataframe\">\n",
       "  <thead>\n",
       "    <tr style=\"text-align: right;\">\n",
       "      <th></th>\n",
       "      <th>author</th>\n",
       "      <th>all_books_rating</th>\n",
       "    </tr>\n",
       "  </thead>\n",
       "  <tbody>\n",
       "    <tr>\n",
       "      <th>0</th>\n",
       "      <td>J.K. Rowling/Mary GrandPré</td>\n",
       "      <td>4.283844</td>\n",
       "    </tr>\n",
       "  </tbody>\n",
       "</table>\n",
       "</div>"
      ],
      "text/plain": [
       "                       author  all_books_rating\n",
       "0  J.K. Rowling/Mary GrandPré          4.283844"
      ]
     },
     "execution_count": 11,
     "metadata": {},
     "output_type": "execute_result"
    }
   ],
   "source": [
    "query = ''' \n",
    "WITH \n",
    "ar AS (SELECT book_id,\n",
    "            COUNT(rating) AS count_rating,\n",
    "            AVG(rating) AS avg_rating\n",
    "        FROM ratings\n",
    "        GROUP BY book_id)\n",
    "                \n",
    "SELECT a.author,\n",
    "        AVG(avg_rating) AS all_books_rating\n",
    "FROM ar\n",
    "FULL OUTER JOIN books AS b ON ar.book_id = b.book_id\n",
    "FULL OUTER JOIN authors AS a ON a.author_id = b.author_id\n",
    "WHERE count_rating > 50\n",
    "GROUP BY author\n",
    "ORDER BY all_books_rating DESC\n",
    "LIMIT 1\n",
    "'''\n",
    "pd.io.sql.read_sql(query, con = engine)"
   ]
  },
  {
   "cell_type": "markdown",
   "metadata": {},
   "source": [
    "- Джуан Ролинг автор с самой высокой оценкой книг"
   ]
  },
  {
   "cell_type": "markdown",
   "metadata": {},
   "source": [
    "<div class=\"alert alert-success\" style=\"border-radius: 15px; box-shadow: 4px 4px 4px; border: 1px solid \" > <b>Комментарии от ревьюера ✔️ : </b> \n",
    "    \n",
    "\n",
    "И здесь ты не ошибся. Ты верно отфильтровал книги и рассчитал средний рейтинг авторов\n",
    "\n",
    "</div>"
   ]
  },
  {
   "cell_type": "markdown",
   "metadata": {},
   "source": [
    "#### Посчитаем среднее количество обзоров от пользователей, которые поставили больше 50 оценок"
   ]
  },
  {
   "cell_type": "code",
   "execution_count": 8,
   "metadata": {},
   "outputs": [
    {
     "data": {
      "text/html": [
       "<div>\n",
       "<style scoped>\n",
       "    .dataframe tbody tr th:only-of-type {\n",
       "        vertical-align: middle;\n",
       "    }\n",
       "\n",
       "    .dataframe tbody tr th {\n",
       "        vertical-align: top;\n",
       "    }\n",
       "\n",
       "    .dataframe thead th {\n",
       "        text-align: right;\n",
       "    }\n",
       "</style>\n",
       "<table border=\"1\" class=\"dataframe\">\n",
       "  <thead>\n",
       "    <tr style=\"text-align: right;\">\n",
       "      <th></th>\n",
       "      <th>book_id</th>\n",
       "      <th>count_rating</th>\n",
       "      <th>avg_rating</th>\n",
       "      <th>book_id</th>\n",
       "      <th>author_id</th>\n",
       "      <th>title</th>\n",
       "      <th>num_pages</th>\n",
       "      <th>publication_date</th>\n",
       "      <th>publisher_id</th>\n",
       "      <th>author_id</th>\n",
       "      <th>author</th>\n",
       "    </tr>\n",
       "  </thead>\n",
       "  <tbody>\n",
       "    <tr>\n",
       "      <th>0</th>\n",
       "      <td>75</td>\n",
       "      <td>84</td>\n",
       "      <td>3.678571</td>\n",
       "      <td>75</td>\n",
       "      <td>106</td>\n",
       "      <td>Angels &amp; Demons (Robert Langdon  #1)</td>\n",
       "      <td>736</td>\n",
       "      <td>2006-04-01</td>\n",
       "      <td>229</td>\n",
       "      <td>106</td>\n",
       "      <td>Dan Brown</td>\n",
       "    </tr>\n",
       "  </tbody>\n",
       "</table>\n",
       "</div>"
      ],
      "text/plain": [
       "   book_id  count_rating  avg_rating  book_id  author_id  \\\n",
       "0       75            84    3.678571       75        106   \n",
       "\n",
       "                                  title  num_pages publication_date  \\\n",
       "0  Angels & Demons (Robert Langdon  #1)        736       2006-04-01   \n",
       "\n",
       "   publisher_id  author_id     author  \n",
       "0           229        106  Dan Brown  "
      ]
     },
     "execution_count": 8,
     "metadata": {},
     "output_type": "execute_result"
    }
   ],
   "source": [
    "query = ''' \n",
    "WITH \n",
    "ar AS (SELECT book_id,\n",
    "            COUNT(rating) AS count_rating,\n",
    "            AVG(rating) AS avg_rating\n",
    "        FROM ratings\n",
    "        GROUP BY book_id)\n",
    "                \n",
    "SELECT *\n",
    "FROM ar\n",
    "FULL OUTER JOIN books AS b ON ar.book_id = b.book_id\n",
    "FULL OUTER JOIN authors AS a ON a.author_id = b.author_id\n",
    "WHERE count_rating > 50\n",
    "LIMIT 1\n",
    "'''\n",
    "pd.io.sql.read_sql(query, con = engine)"
   ]
  },
  {
   "cell_type": "code",
   "execution_count": 9,
   "metadata": {},
   "outputs": [
    {
     "data": {
      "text/html": [
       "<div>\n",
       "<style scoped>\n",
       "    .dataframe tbody tr th:only-of-type {\n",
       "        vertical-align: middle;\n",
       "    }\n",
       "\n",
       "    .dataframe tbody tr th {\n",
       "        vertical-align: top;\n",
       "    }\n",
       "\n",
       "    .dataframe thead th {\n",
       "        text-align: right;\n",
       "    }\n",
       "</style>\n",
       "<table border=\"1\" class=\"dataframe\">\n",
       "  <thead>\n",
       "    <tr style=\"text-align: right;\">\n",
       "      <th></th>\n",
       "      <th>avg</th>\n",
       "    </tr>\n",
       "  </thead>\n",
       "  <tbody>\n",
       "    <tr>\n",
       "      <th>0</th>\n",
       "      <td>24.333333</td>\n",
       "    </tr>\n",
       "  </tbody>\n",
       "</table>\n",
       "</div>"
      ],
      "text/plain": [
       "         avg\n",
       "0  24.333333"
      ]
     },
     "execution_count": 9,
     "metadata": {},
     "output_type": "execute_result"
    }
   ],
   "source": [
    "query = ''' \n",
    "\n",
    "SELECT AVG(count_review)\n",
    "FROM (SELECT COUNT(text) AS count_review\n",
    "      FROM reviews \n",
    "      WHERE username IN (SELECT username\n",
    "                        FROM ratings\n",
    "                        GROUP BY username\n",
    "                        HAVING COUNT(username) > 50)\n",
    "      GROUP BY username) AS cr\n",
    "\n",
    "'''\n",
    "pd.io.sql.read_sql(query, con = engine)"
   ]
  },
  {
   "cell_type": "markdown",
   "metadata": {},
   "source": [
    "<div class=\"alert alert-success\" style=\"border-radius: 15px; box-shadow: 4px 4px 4px; border: 1px solid \" > <b>Комментарии от ревьюера ✔️ : </b> \n",
    "    \n",
    "\n",
    "И это .. правильный ответ! Ты корректно отобрал пользователей и рассчитал их показатели.\n",
    "\n",
    "\n",
    "В итоге, 5\\5 с первой попытки - это сильный результат)\n",
    "\n",
    "</div>"
   ]
  },
  {
   "cell_type": "markdown",
   "metadata": {},
   "source": [
    "- У пользователей, которые поставили больше 50 оценок в среднем по 24 обзора"
   ]
  },
  {
   "cell_type": "markdown",
   "metadata": {},
   "source": [
    "# Вывод"
   ]
  },
  {
   "cell_type": "markdown",
   "metadata": {},
   "source": [
    "- После 1 января 2000 года вышла 821 книга\n",
    "- Для каждой книги посчитали количество обзоров и среднюю оценку. Для 6 книг отсутствуют рецензии, рейтинг присутсвует у всех книг\n",
    "- Джуан Ролинг автор с самой высокой оценкой книг\n",
    "- У пользователей, которые поставили больше 50 оценок в среднем по 24 обзора"
   ]
  }
 ],
 "metadata": {
  "ExecuteTimeLog": [
   {
    "duration": 691,
    "start_time": "2022-07-24T05:09:35.331Z"
   },
   {
    "duration": 8479,
    "start_time": "2022-07-24T05:09:36.918Z"
   },
   {
    "duration": 10,
    "start_time": "2022-07-24T05:10:09.895Z"
   },
   {
    "duration": 83,
    "start_time": "2022-07-24T05:10:48.774Z"
   },
   {
    "duration": 4,
    "start_time": "2022-07-24T05:12:47.834Z"
   },
   {
    "duration": 7,
    "start_time": "2022-07-24T05:12:55.625Z"
   },
   {
    "duration": 76,
    "start_time": "2022-07-24T05:15:12.084Z"
   },
   {
    "duration": 128,
    "start_time": "2022-07-24T05:17:07.435Z"
   },
   {
    "duration": 24,
    "start_time": "2022-07-24T05:19:17.572Z"
   },
   {
    "duration": 22,
    "start_time": "2022-07-24T05:19:28.441Z"
   },
   {
    "duration": 36,
    "start_time": "2022-07-24T05:19:34.841Z"
   },
   {
    "duration": 100,
    "start_time": "2022-07-24T05:23:47.481Z"
   },
   {
    "duration": 31,
    "start_time": "2022-07-24T05:24:06.834Z"
   },
   {
    "duration": 12,
    "start_time": "2022-07-24T05:26:13.543Z"
   },
   {
    "duration": 103,
    "start_time": "2022-07-24T05:27:52.600Z"
   },
   {
    "duration": 100,
    "start_time": "2022-07-24T05:28:01.610Z"
   },
   {
    "duration": 14,
    "start_time": "2022-07-24T05:29:05.975Z"
   },
   {
    "duration": 48,
    "start_time": "2022-07-24T05:29:14.678Z"
   },
   {
    "duration": 36,
    "start_time": "2022-07-24T05:32:18.448Z"
   },
   {
    "duration": 99,
    "start_time": "2022-07-24T05:34:17.969Z"
   },
   {
    "duration": 106,
    "start_time": "2022-07-24T05:34:40.548Z"
   },
   {
    "duration": 58,
    "start_time": "2022-07-24T05:34:50.506Z"
   },
   {
    "duration": 54,
    "start_time": "2022-07-24T05:34:59.662Z"
   },
   {
    "duration": 317,
    "start_time": "2022-07-24T05:36:32.126Z"
   },
   {
    "duration": 91,
    "start_time": "2022-07-24T05:37:11.621Z"
   },
   {
    "duration": 375,
    "start_time": "2022-07-24T05:37:20.319Z"
   },
   {
    "duration": 129,
    "start_time": "2022-07-24T05:37:40.844Z"
   },
   {
    "duration": 325,
    "start_time": "2022-07-24T05:38:05.489Z"
   },
   {
    "duration": 301,
    "start_time": "2022-07-24T05:38:14.757Z"
   },
   {
    "duration": 355,
    "start_time": "2022-07-24T05:38:50.779Z"
   },
   {
    "duration": 299,
    "start_time": "2022-07-24T05:39:56.100Z"
   },
   {
    "duration": 309,
    "start_time": "2022-07-24T05:40:26.950Z"
   },
   {
    "duration": 30,
    "start_time": "2022-07-24T05:45:46.830Z"
   },
   {
    "duration": 17,
    "start_time": "2022-07-24T05:46:37.537Z"
   },
   {
    "duration": 36,
    "start_time": "2022-07-24T05:47:44.089Z"
   },
   {
    "duration": 20,
    "start_time": "2022-07-24T05:48:39.218Z"
   },
   {
    "duration": 17,
    "start_time": "2022-07-24T05:49:01.261Z"
   },
   {
    "duration": 20,
    "start_time": "2022-07-24T05:50:10.474Z"
   },
   {
    "duration": 63,
    "start_time": "2022-07-24T05:50:22.770Z"
   },
   {
    "duration": 16,
    "start_time": "2022-07-24T05:55:47.129Z"
   },
   {
    "duration": 21,
    "start_time": "2022-07-24T05:55:57.073Z"
   },
   {
    "duration": 23,
    "start_time": "2022-07-24T05:57:09.349Z"
   },
   {
    "duration": 123,
    "start_time": "2022-07-24T05:59:52.067Z"
   },
   {
    "duration": 108,
    "start_time": "2022-07-24T06:01:17.043Z"
   },
   {
    "duration": 112,
    "start_time": "2022-07-24T06:09:29.922Z"
   },
   {
    "duration": 35,
    "start_time": "2022-07-24T06:09:43.383Z"
   },
   {
    "duration": 22,
    "start_time": "2022-07-24T06:09:53.621Z"
   },
   {
    "duration": 18,
    "start_time": "2022-07-24T06:10:24.762Z"
   },
   {
    "duration": 103,
    "start_time": "2022-07-24T06:10:50.049Z"
   },
   {
    "duration": 96,
    "start_time": "2022-07-24T06:11:32.081Z"
   },
   {
    "duration": 20,
    "start_time": "2022-07-24T06:12:35.098Z"
   },
   {
    "duration": 30,
    "start_time": "2022-07-24T06:12:44.707Z"
   },
   {
    "duration": 31,
    "start_time": "2022-07-24T06:13:15.043Z"
   },
   {
    "duration": 43,
    "start_time": "2022-07-24T06:13:47.842Z"
   },
   {
    "duration": 34,
    "start_time": "2022-07-24T06:13:56.550Z"
   },
   {
    "duration": 23,
    "start_time": "2022-07-24T06:15:21.206Z"
   },
   {
    "duration": 17,
    "start_time": "2022-07-24T06:16:12.455Z"
   },
   {
    "duration": 117,
    "start_time": "2022-07-24T06:16:21.033Z"
   },
   {
    "duration": 24,
    "start_time": "2022-07-24T06:16:37.865Z"
   },
   {
    "duration": 24,
    "start_time": "2022-07-24T06:16:51.577Z"
   },
   {
    "duration": 24,
    "start_time": "2022-07-24T06:20:45.134Z"
   },
   {
    "duration": 23,
    "start_time": "2022-07-24T06:20:49.820Z"
   },
   {
    "duration": 31,
    "start_time": "2022-07-24T06:24:05.300Z"
   },
   {
    "duration": 15,
    "start_time": "2022-07-24T06:25:24.893Z"
   },
   {
    "duration": 29,
    "start_time": "2022-07-24T06:27:12.194Z"
   },
   {
    "duration": 27,
    "start_time": "2022-07-24T06:27:54.594Z"
   },
   {
    "duration": 16,
    "start_time": "2022-07-24T06:28:31.584Z"
   },
   {
    "duration": 25,
    "start_time": "2022-07-24T06:28:37.146Z"
   },
   {
    "duration": 15,
    "start_time": "2022-07-24T06:30:04.597Z"
   },
   {
    "duration": 15,
    "start_time": "2022-07-24T06:30:23.931Z"
   },
   {
    "duration": 16,
    "start_time": "2022-07-24T06:30:34.530Z"
   },
   {
    "duration": 17,
    "start_time": "2022-07-24T06:31:56.682Z"
   },
   {
    "duration": 16,
    "start_time": "2022-07-24T06:32:02.990Z"
   },
   {
    "duration": 12,
    "start_time": "2022-07-24T06:32:10.650Z"
   },
   {
    "duration": 14,
    "start_time": "2022-07-24T06:33:27.954Z"
   },
   {
    "duration": 31,
    "start_time": "2022-07-24T06:37:08.956Z"
   },
   {
    "duration": 23,
    "start_time": "2022-07-24T06:38:15.100Z"
   },
   {
    "duration": 95,
    "start_time": "2022-07-24T06:38:42.748Z"
   },
   {
    "duration": 99,
    "start_time": "2022-07-24T06:38:46.546Z"
   },
   {
    "duration": 24,
    "start_time": "2022-07-24T06:38:59.054Z"
   },
   {
    "duration": 25,
    "start_time": "2022-07-24T06:39:18.694Z"
   },
   {
    "duration": 27,
    "start_time": "2022-07-24T06:39:25.675Z"
   },
   {
    "duration": 163,
    "start_time": "2022-07-24T06:40:29.535Z"
   },
   {
    "duration": 25,
    "start_time": "2022-07-24T06:40:36.696Z"
   },
   {
    "duration": 102,
    "start_time": "2022-07-24T06:44:11.523Z"
   },
   {
    "duration": 110,
    "start_time": "2022-07-24T06:44:28.931Z"
   },
   {
    "duration": 117,
    "start_time": "2022-07-24T06:45:04.034Z"
   },
   {
    "duration": 24,
    "start_time": "2022-07-24T06:45:35.626Z"
   },
   {
    "duration": 21,
    "start_time": "2022-07-24T06:46:22.995Z"
   },
   {
    "duration": 19,
    "start_time": "2022-07-24T06:47:41.619Z"
   },
   {
    "duration": 18,
    "start_time": "2022-07-24T06:47:49.219Z"
   },
   {
    "duration": 26,
    "start_time": "2022-07-24T06:48:16.974Z"
   },
   {
    "duration": 110,
    "start_time": "2022-07-24T06:48:31.592Z"
   },
   {
    "duration": 17,
    "start_time": "2022-07-24T06:48:34.380Z"
   },
   {
    "duration": 98,
    "start_time": "2022-07-24T06:48:48.792Z"
   },
   {
    "duration": 105,
    "start_time": "2022-07-24T06:48:53.341Z"
   },
   {
    "duration": 18,
    "start_time": "2022-07-24T06:49:02.808Z"
   },
   {
    "duration": 17,
    "start_time": "2022-07-24T06:49:21.081Z"
   },
   {
    "duration": 19,
    "start_time": "2022-07-24T06:51:42.129Z"
   },
   {
    "duration": 19,
    "start_time": "2022-07-24T06:52:04.422Z"
   },
   {
    "duration": 20,
    "start_time": "2022-07-24T06:53:15.675Z"
   },
   {
    "duration": 25,
    "start_time": "2022-07-24T06:54:21.785Z"
   },
   {
    "duration": 19,
    "start_time": "2022-07-24T06:54:36.963Z"
   },
   {
    "duration": 3796,
    "start_time": "2022-07-24T07:34:28.591Z"
   },
   {
    "duration": 19,
    "start_time": "2022-07-24T07:37:30.324Z"
   },
   {
    "duration": 23,
    "start_time": "2022-07-24T07:38:07.649Z"
   },
   {
    "duration": 44,
    "start_time": "2022-07-24T07:38:28.079Z"
   },
   {
    "duration": 14,
    "start_time": "2022-07-24T07:57:04.678Z"
   },
   {
    "duration": 20,
    "start_time": "2022-07-24T07:57:44.747Z"
   },
   {
    "duration": 98,
    "start_time": "2022-07-24T07:58:48.259Z"
   },
   {
    "duration": 110,
    "start_time": "2022-07-24T07:58:59.649Z"
   },
   {
    "duration": 14,
    "start_time": "2022-07-24T07:59:34.314Z"
   },
   {
    "duration": 15,
    "start_time": "2022-07-24T07:59:47.709Z"
   },
   {
    "duration": 18,
    "start_time": "2022-07-24T08:00:16.725Z"
   },
   {
    "duration": 14,
    "start_time": "2022-07-24T08:00:28.274Z"
   },
   {
    "duration": 17,
    "start_time": "2022-07-24T08:00:41.822Z"
   },
   {
    "duration": 17,
    "start_time": "2022-07-24T08:02:16.352Z"
   },
   {
    "duration": 94,
    "start_time": "2022-07-24T08:03:01.526Z"
   },
   {
    "duration": 25,
    "start_time": "2022-07-24T08:03:07.411Z"
   },
   {
    "duration": 99,
    "start_time": "2022-07-24T08:03:44.465Z"
   },
   {
    "duration": 104,
    "start_time": "2022-07-24T08:03:51.468Z"
   },
   {
    "duration": 95,
    "start_time": "2022-07-24T08:03:56.962Z"
   },
   {
    "duration": 19,
    "start_time": "2022-07-24T08:04:48.973Z"
   },
   {
    "duration": 94,
    "start_time": "2022-07-24T08:04:59.067Z"
   },
   {
    "duration": 100,
    "start_time": "2022-07-24T08:05:39.045Z"
   },
   {
    "duration": 103,
    "start_time": "2022-07-24T08:05:45.123Z"
   },
   {
    "duration": 96,
    "start_time": "2022-07-24T08:05:50.915Z"
   },
   {
    "duration": 141,
    "start_time": "2022-07-24T08:06:02.611Z"
   },
   {
    "duration": 18,
    "start_time": "2022-07-24T08:06:26.504Z"
   },
   {
    "duration": 13,
    "start_time": "2022-07-24T08:08:02.786Z"
   },
   {
    "duration": 109,
    "start_time": "2022-07-24T08:08:19.490Z"
   },
   {
    "duration": 103,
    "start_time": "2022-07-24T08:08:47.802Z"
   },
   {
    "duration": 105,
    "start_time": "2022-07-24T08:09:22.660Z"
   },
   {
    "duration": 106,
    "start_time": "2022-07-24T08:10:06.869Z"
   },
   {
    "duration": 113,
    "start_time": "2022-07-24T08:10:14.385Z"
   },
   {
    "duration": 13,
    "start_time": "2022-07-24T08:10:57.953Z"
   },
   {
    "duration": 20,
    "start_time": "2022-07-24T08:11:03.327Z"
   },
   {
    "duration": 102,
    "start_time": "2022-07-24T08:11:14.527Z"
   },
   {
    "duration": 21,
    "start_time": "2022-07-24T08:11:21.931Z"
   },
   {
    "duration": 38,
    "start_time": "2022-07-24T08:12:30.210Z"
   },
   {
    "duration": 121,
    "start_time": "2022-07-24T08:13:26.181Z"
   },
   {
    "duration": 113,
    "start_time": "2022-07-24T08:13:35.859Z"
   },
   {
    "duration": 110,
    "start_time": "2022-07-24T08:13:39.540Z"
   },
   {
    "duration": 28,
    "start_time": "2022-07-24T08:13:59.104Z"
   },
   {
    "duration": 13,
    "start_time": "2022-07-24T08:14:06.344Z"
   },
   {
    "duration": 2875,
    "start_time": "2022-07-24T08:14:53.247Z"
   },
   {
    "duration": 3,
    "start_time": "2022-07-24T08:28:32.458Z"
   },
   {
    "duration": 12,
    "start_time": "2022-07-24T08:28:32.464Z"
   },
   {
    "duration": 73,
    "start_time": "2022-07-24T08:28:32.478Z"
   },
   {
    "duration": 25,
    "start_time": "2022-07-24T08:28:32.553Z"
   },
   {
    "duration": 17,
    "start_time": "2022-07-24T08:28:32.579Z"
   },
   {
    "duration": 17,
    "start_time": "2022-07-24T08:28:32.598Z"
   },
   {
    "duration": 32,
    "start_time": "2022-07-24T08:28:32.617Z"
   },
   {
    "duration": 15,
    "start_time": "2022-07-24T08:28:32.651Z"
   },
   {
    "duration": 3,
    "start_time": "2022-07-24T08:37:57.234Z"
   },
   {
    "duration": 8,
    "start_time": "2022-07-24T08:39:15.512Z"
   },
   {
    "duration": 21,
    "start_time": "2022-07-24T08:40:28.992Z"
   },
   {
    "duration": 17,
    "start_time": "2022-07-24T08:40:45.194Z"
   },
   {
    "duration": 23,
    "start_time": "2022-07-24T08:40:55.909Z"
   },
   {
    "duration": 144,
    "start_time": "2022-07-24T08:42:01.721Z"
   },
   {
    "duration": 55,
    "start_time": "2022-07-24T08:42:16.679Z"
   },
   {
    "duration": 530,
    "start_time": "2022-07-24T08:43:44.457Z"
   },
   {
    "duration": 8322,
    "start_time": "2022-07-24T08:43:44.989Z"
   },
   {
    "duration": 100,
    "start_time": "2022-07-24T08:43:53.313Z"
   },
   {
    "duration": 12,
    "start_time": "2022-07-24T08:43:53.415Z"
   },
   {
    "duration": 26,
    "start_time": "2022-07-24T08:43:53.428Z"
   },
   {
    "duration": 12,
    "start_time": "2022-07-24T08:43:53.456Z"
   },
   {
    "duration": 23,
    "start_time": "2022-07-24T08:43:53.470Z"
   },
   {
    "duration": 20,
    "start_time": "2022-07-24T08:43:53.495Z"
   },
   {
    "duration": 14,
    "start_time": "2022-07-24T08:43:53.517Z"
   },
   {
    "duration": 572,
    "start_time": "2022-07-24T17:04:11.531Z"
   },
   {
    "duration": 9420,
    "start_time": "2022-07-24T17:04:12.105Z"
   },
   {
    "duration": 520,
    "start_time": "2022-07-24T17:04:21.527Z"
   },
   {
    "duration": 70,
    "start_time": "2022-07-24T17:04:22.049Z"
   },
   {
    "duration": 104,
    "start_time": "2022-07-24T17:04:22.121Z"
   },
   {
    "duration": 71,
    "start_time": "2022-07-24T17:04:22.227Z"
   },
   {
    "duration": 74,
    "start_time": "2022-07-24T17:04:22.300Z"
   },
   {
    "duration": 77,
    "start_time": "2022-07-24T17:04:22.376Z"
   },
   {
    "duration": 80,
    "start_time": "2022-07-24T17:04:22.454Z"
   },
   {
    "duration": 77,
    "start_time": "2022-07-24T17:07:03.355Z"
   },
   {
    "duration": 75,
    "start_time": "2022-07-24T17:07:05.278Z"
   }
  ],
  "kernelspec": {
   "display_name": "Python 3 (ipykernel)",
   "language": "python",
   "name": "python3"
  },
  "language_info": {
   "codemirror_mode": {
    "name": "ipython",
    "version": 3
   },
   "file_extension": ".py",
   "mimetype": "text/x-python",
   "name": "python",
   "nbconvert_exporter": "python",
   "pygments_lexer": "ipython3",
   "version": "3.9.5"
  },
  "toc": {
   "base_numbering": 1,
   "nav_menu": {},
   "number_sections": true,
   "sideBar": true,
   "skip_h1_title": true,
   "title_cell": "Table of Contents",
   "title_sidebar": "Contents",
   "toc_cell": false,
   "toc_position": {},
   "toc_section_display": true,
   "toc_window_display": false
  }
 },
 "nbformat": 4,
 "nbformat_minor": 2
}
